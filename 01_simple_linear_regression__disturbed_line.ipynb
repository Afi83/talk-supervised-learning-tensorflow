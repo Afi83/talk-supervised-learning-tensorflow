{
 "cells": [
  {
   "cell_type": "code",
   "execution_count": null,
   "metadata": {},
   "outputs": [],
   "source": [
    "import matplotlib.pyplot as plt\n",
    "import numpy as np\n",
    "import tensorflow as tf\n",
    "\n",
    "# Prints numpy arrays nicer\n",
    "np.set_printoptions(precision=2, suppress=True, linewidth=100)"
   ]
  },
  {
   "cell_type": "code",
   "execution_count": null,
   "metadata": {},
   "outputs": [],
   "source": [
    "def target_function(x):\n",
    "    return x * 0.5 - 4\n",
    "\n",
    "\n",
    "num_samples = 30\n",
    "# Randomly sampled values in [-10, 10]\n",
    "xs = np.random.uniform(low=-10, high=10, size=num_samples)\n",
    "# Intended target value plus random noise\n",
    "ys = target_function(xs) + np.random.normal(loc=0, scale=1, size=num_samples)\n",
    "\n",
    "data = np.array(list(zip(xs, ys)))\n",
    "print('data:')\n",
    "print(data)\n",
    "\n",
    "plt.figure(dpi=150)\n",
    "plt.title('Data')\n",
    "plt.xlabel('x')\n",
    "plt.ylabel('y')\n",
    "plt.plot([-12, 12], [target_function(-12), target_function(12)],\n",
    "         color='#458588', label='target_function')\n",
    "plt.scatter(xs, ys, color='#458588', label='data')\n",
    "plt.legend()\n",
    "plt.show()"
   ]
  },
  {
   "cell_type": "code",
   "execution_count": null,
   "metadata": {},
   "outputs": [],
   "source": [
    "# Hyperparameters\n",
    "learning_rate = 0.005\n",
    "num_epochs = 20\n",
    "\n",
    "# Model Definition\n",
    "x = tf.placeholder(tf.float32)\n",
    "y = tf.placeholder(tf.float32)\n",
    "\n",
    "m = tf.Variable(1.0)\n",
    "b = tf.Variable(0.0)\n",
    "\n",
    "y_prediction = x * m + b\n",
    "\n",
    "loss = (y - y_prediction) ** 2\n",
    "train_op = tf.train.GradientDescentOptimizer(learning_rate).minimize(loss)"
   ]
  },
  {
   "cell_type": "code",
   "execution_count": null,
   "metadata": {},
   "outputs": [],
   "source": [
    "with tf.Session() as sess:\n",
    "    sess.run(tf.global_variables_initializer())\n",
    "\n",
    "    # Training\n",
    "    losses = []  # Storing losses so we can plot them later\n",
    "    for epoch in range(num_epochs):\n",
    "        np.random.shuffle(data)\n",
    "        cumulative_loss = 0\n",
    "        for _x, _y in data:\n",
    "            _loss, _train_op = sess.run(\n",
    "                (loss, train_op), feed_dict={x: _x, y: _y})\n",
    "            cumulative_loss += _loss\n",
    "        average_loss = cumulative_loss / len(data)\n",
    "        print('Epoch: {}, Loss: {}'.format(epoch + 1, average_loss))\n",
    "        losses.append(average_loss)\n",
    "\n",
    "    # Introspection\n",
    "    print()\n",
    "    _m, _b = sess.run([m, b])\n",
    "    print('Estimated m:', _m)\n",
    "    print('Estimated b:', _b)\n",
    "\n",
    "    # Prediction\n",
    "    ys_actual = []\n",
    "    ys_predicted = []\n",
    "    for _x, _y in data:\n",
    "        ys_actual.append(_y)\n",
    "        ys_predicted.append(sess.run(y_prediction, feed_dict={x: _x}))"
   ]
  },
  {
   "cell_type": "code",
   "execution_count": null,
   "metadata": {},
   "outputs": [],
   "source": [
    "plt.figure(dpi=150)\n",
    "plt.title('Loss over Time')\n",
    "plt.xlabel('Epoch')\n",
    "plt.ylabel('Loss')\n",
    "plt.plot(range(len(losses)), losses, color='#458588')\n",
    "plt.show()"
   ]
  },
  {
   "cell_type": "code",
   "execution_count": null,
   "metadata": {},
   "outputs": [],
   "source": [
    "plt.figure(dpi=150)\n",
    "plt.title('Actual Function vs Estimated Function')\n",
    "plt.xlabel('x')\n",
    "plt.ylabel('y')\n",
    "plt.plot([-12, 12], [target_function(-12), target_function(12)],\n",
    "         color='#458588', label='target_function')\n",
    "plt.scatter(xs, ys, color='#458588', label='data')\n",
    "plt.plot([-12, 12], [-12 * _m + _b, 12 * _m + _b],\n",
    "         color='#CC241D', label='estimated_function')\n",
    "plt.legend()\n",
    "plt.show()"
   ]
  },
  {
   "cell_type": "code",
   "execution_count": null,
   "metadata": {},
   "outputs": [],
   "source": [
    "plt.figure(dpi=150)\n",
    "plt.title('Actual vs Predicted Data Points')\n",
    "plt.xlabel('Actual y-value')\n",
    "plt.ylabel('Predicted y-value')\n",
    "plt.plot([min(ys_actual), max(ys_actual)], [min(ys_actual), max(ys_actual)],\n",
    "         color='#1D2021', linestyle='--')\n",
    "plt.scatter(ys_actual, ys_predicted, color='#458588')\n",
    "plt.show()"
   ]
  }
 ],
 "metadata": {
  "kernelspec": {
   "display_name": "Python 3",
   "name": "python3"
  }
 },
 "nbformat": 4,
 "nbformat_minor": 0
}
